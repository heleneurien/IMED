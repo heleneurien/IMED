{
 "cells": [
  {
   "cell_type": "code",
   "execution_count": 1,
   "metadata": {},
   "outputs": [],
   "source": [
    "#System imports\n",
    "from __future__ import print_function\n",
    "from __future__ import division\n",
    "import os\n",
    "import glob\n",
    "import json\n",
    "import collections\n",
    "from ipywidgets import interact, interactive, fixed, interact_manual\n",
    "import ipywidgets as widgets"
   ]
  },
  {
   "cell_type": "code",
   "execution_count": 2,
   "metadata": {},
   "outputs": [],
   "source": [
    "#Extra import\n",
    "%matplotlib inline\n",
    "import numpy as np\n",
    "import SimpleITK as sitk\n",
    "from joblib import Parallel, delayed\n",
    "import nibabel as nib\n",
    "from matplotlib import pyplot as plt\n",
    "from scipy import ndimage\n",
    "from skimage.morphology import watershed\n",
    "import progressbar"
   ]
  },
  {
   "cell_type": "code",
   "execution_count": 3,
   "metadata": {},
   "outputs": [],
   "source": [
    "datapath = os.path.join(os.path.dirname(os.getcwd()), \"BRATS_2016\")"
   ]
  },
  {
   "cell_type": "code",
   "execution_count": 4,
   "metadata": {},
   "outputs": [],
   "source": [
    "impaths = [path for path in glob.glob(os.path.join(datapath, \"sourcedata\", \"*\", \"*\", \"*\", \"*\")) if \"ce-GADOLINIUM_T1w.nii\" in path]\n",
    "impath = impaths[40]"
   ]
  },
  {
   "cell_type": "code",
   "execution_count": 5,
   "metadata": {
    "scrolled": false
   },
   "outputs": [
    {
     "name": "stdout",
     "output_type": "stream",
     "text": [
      "Image dimension: (240, 240, 155)\n",
      "Voxel size (mm): (1.0, 1.0, 1.0)\n"
     ]
    }
   ],
   "source": [
    "im = nib.load(impath)\n",
    "im_arr = im.get_data()\n",
    "print(\"Image dimension:\", im.shape)\n",
    "print(\"Voxel size (mm):\", im.header.get_zooms())\n",
    "sx, sy, sz = im.shape"
   ]
  },
  {
   "cell_type": "markdown",
   "metadata": {},
   "source": [
    "# Segmentation\n",
    "\n",
    "<font color='red'>Define the Otsu thresholding function</font> "
   ]
  },
  {
   "cell_type": "code",
   "execution_count": 6,
   "metadata": {},
   "outputs": [],
   "source": [
    "#Define the Otsu thresholding function \n",
    "def otsu(im_arr, mask_arr):\n",
    "    \n",
    "    \"\"\"Otsu thresholding function  \n",
    "    Inputs:\n",
    "    im_arr: array,\n",
    "        the mr image array\n",
    "    mask_arr: array\n",
    "        the binary mask array\n",
    "        \n",
    "    Outputs:   \n",
    "    threshold_val: float,\n",
    "        the threshold value\n",
    "    \"\"\"\n",
    "    \n",
    "    #...To complete ...\n",
    "        \n",
    "    return threshold_val"
   ]
  },
  {
   "cell_type": "markdown",
   "metadata": {},
   "source": [
    "<font color='red'>Define the maximum entropy thresholding function</font> "
   ]
  },
  {
   "cell_type": "code",
   "execution_count": 7,
   "metadata": {},
   "outputs": [],
   "source": [
    "#Define the maximum entropy thresholding function \n",
    "def max_entropy(im_arr, mask_arr):\n",
    "\n",
    "    \"\"\"Maximum entropy thresholding function \n",
    "    Inputs:\n",
    "    im_arr: array,\n",
    "        the mr image array\n",
    "    mask_arr: array\n",
    "        the binary mask array\n",
    "        \n",
    "    Outputs:   \n",
    "    threshold_val: float,\n",
    "        the threshold value\n",
    "    \"\"\"\n",
    "    \n",
    "    #...To complete ...    \n",
    "    \n",
    "    return threshold_val"
   ]
  },
  {
   "cell_type": "markdown",
   "metadata": {},
   "source": [
    "<font color='red'>Compute the brain mask using a 3D Otsu threshold</font> "
   ]
  },
  {
   "cell_type": "code",
   "execution_count": 37,
   "metadata": {},
   "outputs": [
    {
     "data": {
      "application/vnd.jupyter.widget-view+json": {
       "model_id": "12b4a54f9e334376afadb2c72d93b7ca",
       "version_major": 2,
       "version_minor": 0
      },
      "text/plain": [
       "interactive(children=(IntSlider(value=77, description='mr_slice', max=155), Output()), _dom_classes=('widget-i…"
      ]
     },
     "metadata": {},
     "output_type": "display_data"
    }
   ],
   "source": [
    "#Compute the brain mask using a 3D Otsu thresholding method\n",
    "thresh_val = otsu(im_arr, np.ones((sx, sy, sz)))\n",
    "brain_arr = (im_arr >= thresh_val).astype(int)\n",
    "\n",
    "# Fill the holes in the brain mask \n",
    "#You may use the ndimage.binary_fill_holes function\n",
    "# ... To complete ...  \n",
    "\n",
    "def show_result(im_arr, seg_arr, mr_slice):\n",
    "    \"\"\" Superimpose the MR slice image and the segmentation contour\n",
    "    Inputs:\n",
    "    im_arr: 3D array,\n",
    "        the mr image array\n",
    "    seg_arr: 3D array\n",
    "        the binary segmentation array\n",
    "    mr_slice: int,\n",
    "        the MR slice to show\n",
    "    Outputs:   \n",
    "    threshold_val: float,\n",
    "        the threshold value   \n",
    "    \"\"\"\n",
    "    plt.imshow(im_arr[:,:,mr_slice].T, cmap=\"gray\")\n",
    "    plt.contour(seg_arr[:,:,mr_slice].T, colors=\"r\", linewidths=1, levels=[0.5, 1])\n",
    "    plt.axis('off')\n",
    "    plt.pause(0.1)\n",
    "\n",
    "#Initialize the tumor segmentation with a 3D maximum entropy thresholding\n",
    "thresh_val = max_entropy(im_arr, brain_arr)\n",
    "init_seg_arr = (im_arr >= thresh_val).astype(int) \n",
    "\n",
    "#Fill the holes in the segmentation array\n",
    "# ... To complete ...  \n",
    "\n",
    "#Remove the connected components of volume less than 1000 voxels (26-connectivity)    \n",
    "# ... To complete ...      \n",
    "\n",
    "#Show the result        \n",
    "interactive_plot = interactive(show_result, im_arr=fixed(im_arr), seg_arr=fixed(init_seg_arr), mr_slice=(0, sz, 1))\n",
    "interactive_plot "
   ]
  },
  {
   "cell_type": "markdown",
   "metadata": {},
   "source": [
    "The function belows is a simplified implementation of the Watershed algorithm [Beucher, S. and Lantuéjoul, C., 1979].\n",
    "You may also try more sophisticated implementations from librairies such as Scipy (see http://scipy-lectures.org/advanced/image_processing/auto_examples/plot_watershed_segmentation.html).\n",
    "For today, let's use the homemade watershed function.\n",
    "\n",
    "<font color='red'>Read the following code to make sure that you understand the principles behind the watershed algorithm. </font> "
   ]
  },
  {
   "cell_type": "code",
   "execution_count": 61,
   "metadata": {},
   "outputs": [],
   "source": [
    "#Home made watershed with markers !\n",
    "def homemade_watershed(im_arr, mask_arr, markers_arr, se):\n",
    "    \n",
    "    \"\"\" Watershed segmentation\n",
    "    Inputs:\n",
    "    im_arr: 2D or 3D array,\n",
    "        the mr image array\n",
    "    mask_arr: 2D or 3D array\n",
    "        the binary mask array\n",
    "    markers_arr: 2D or 3D array,\n",
    "        the labelled marker array \n",
    "    se: 3x3 or 3x3x3 array,\n",
    "        the structuring element defining the connectivity\n",
    "    Outputs:   \n",
    "    seg_arr: 2D or 3D array,\n",
    "        the segmentation array    \n",
    "    \"\"\"\n",
    "        \n",
    "    #Requantize the image array (not necessary, but reduces computation time)\n",
    "    #mu = np.mean(im_arr[mask_arr ==1])\n",
    "    #std = np.std(im_arr[mask_arr ==1])\n",
    "    #im_arr = (im_arr - mu) / std\n",
    "    im_arr = 255 * (im_arr - np.min(im_arr[mask_arr == 1])) / (np.max(im_arr[mask_arr == 1]) - np.min(im_arr[mask_arr == 1]))\n",
    "    im_arr = np.rint(im_arr)\n",
    "\n",
    "    #Sort the intensity value from lowest to highest value    \n",
    "    intensity_vals = list(np.unique(im_arr[mask_arr > 0]))\n",
    "    intensity_vals.sort()\n",
    "    print(\"{0} grey levels to process\".format(len(intensity_vals)))\n",
    "          \n",
    "    seg_arr = np.zeros(im_arr.shape).astype(int)\n",
    "    with progressbar.ProgressBar(max_value=len(intensity_vals), redirect_stdout=True) as bar:\n",
    "        for cnt_k, k in enumerate(intensity_vals):\n",
    "\n",
    "            #print(int(np.round((((cnt_k + 1) / len(intensity_vals)) * 100))))\n",
    "            #Level set at level k\n",
    "            kls_arr = np.logical_and(mask_arr > 0, im_arr == k).astype(int)\n",
    "\n",
    "            #Union between the k level set and the previous segmentation\n",
    "            kseg_arr = np.logical_or(kls_arr, seg_arr > 0).astype(int)\n",
    "\n",
    "            #Connected components    \n",
    "            ccs_arr, nb_ccs = ndimage.label(kseg_arr, structure=se)\n",
    "\n",
    "            #Get the connected components (cc) including a marker\n",
    "            ccs_with_markers = np.unique(ccs_arr[markers_arr != 0])\n",
    "            ccs_with_markers = list(ccs_with_markers[ccs_with_markers != 0])\n",
    "\n",
    "            #For each cc with markers, check if there is only one marker included\n",
    "            for cc_id in ccs_with_markers:\n",
    "                marker_ids = np.unique(markers_arr[ccs_arr == cc_id])\n",
    "                marker_ids = list(marker_ids[marker_ids != 0])\n",
    "\n",
    "                #If so, add the whole cc area into the segmentation of the region\n",
    "                #associated with the marker\n",
    "                if len(marker_ids) == 1:\n",
    "                    seg_arr[ccs_arr == cc_id] = marker_ids[0]\n",
    "\n",
    "            #Update the progress bar  \n",
    "            bar.update(cnt_k)\n",
    "            \n",
    "    return seg_arr        "
   ]
  },
  {
   "cell_type": "markdown",
   "metadata": {},
   "source": [
    "<font color='red'>Try the homemade watershed algorith on the MR slice number 111 (2D version)\n",
    "- Choose wisely the image on which the algorithm is applied.\n",
    "- Use 8-connectivity.    \n",
    "- Take the labelled minimum extrema as initial markers (use ndimage.label to obtain a labelled image).\n",
    "- Comment the result.    \n",
    "</font> "
   ]
  },
  {
   "cell_type": "code",
   "execution_count": null,
   "metadata": {},
   "outputs": [],
   "source": [
    "#Test the homemade watershed on one MR slice\n",
    "mr_slice = 111\n",
    "\n",
    "#Initialization:\n",
    "markers_arr = #... To complete ...  \n",
    "\n",
    "se = # ... To complete ...  \n",
    "seg_arr = # ... To complete ...  \n",
    "\n",
    "#Get back the tumor segmentation\n",
    "seg_arr = (seg_arr == 1).astype(int)\n",
    "\n",
    "#Show the result on the MR slice\n",
    "plt.imshow(im_arr[:, :, mr_slice].T, cmap=\"gray\")\n",
    "plt.contour(markers_arr.T, colors=\"b\", linewidths=1, levels=[1.5, 2])\n",
    "plt.contour(seg_arr.T, colors=\"r\", linewidths=1, levels=[0.5, 1])\n",
    "plt.axis('off')"
   ]
  },
  {
   "cell_type": "markdown",
   "metadata": {},
   "source": [
    "<font color='red'>Try the homemade watershed algorith on the MR slice number 111 (2D version)\n",
    "- Choose wisely the image on which the algorithm is applied.\n",
    "- Use 8-connectivity.\n",
    "- Try several p parameters.    \n",
    "- Comment the result.    \n",
    "</font> "
   ]
  },
  {
   "cell_type": "code",
   "execution_count": 66,
   "metadata": {
    "scrolled": true
   },
   "outputs": [
    {
     "name": "stderr",
     "output_type": "stream",
     "text": [
      "100% (125 of 125) |######################| Elapsed Time: 0:00:00 Time:  0:00:00\n"
     ]
    },
    {
     "name": "stdout",
     "output_type": "stream",
     "text": [
      "125 grey levels to process\n"
     ]
    },
    {
     "data": {
      "text/plain": [
       "(-0.5, 239.5, 239.5, -0.5)"
      ]
     },
     "execution_count": 66,
     "metadata": {},
     "output_type": "execute_result"
    },
    {
     "data": {
      "image/png": "[encoded data removed]",
      "text/plain": [
       "<Figure size 432x288 with 1 Axes>"
      ]
     },
     "metadata": {
      "needs_background": "light"
     },
     "output_type": "display_data"
    }
   ],
   "source": [
    "#Test the homemade watershed on one MR slice\n",
    "mr_slice = 111\n",
    "\n",
    "#Initialization:\n",
    "#Intern markers = initial segmentation \n",
    "#Extern markers = initial segmentation bounding box + p pixels\n",
    "p = 5\n",
    "markers_arr = np.zeros((sx, sy))\n",
    "[x, y] = np.where(init_seg_arr[:, :, mr_slice] != 0)\n",
    "bb_arr = np.zeros((sx, sy))\n",
    "bb_arr[np.min(x) - p:np.max(x) + p, np.min(y) - p:np.max(y) + p] = 1\n",
    "dist_arr = ndimage.distance_transform_edt(bb_arr).astype(int)\n",
    "markers_arr[np.logical_and(dist_arr > 0, dist_arr < 1.5)] = 2\n",
    "markers_arr[init_seg_arr[:, :, mr_slice] == 1] = 1\n",
    "\n",
    "se = # ... To complete ...  \n",
    "seg_arr = # ... To complete ...  \n",
    "\n",
    "#Get back the tumor segmentation\n",
    "seg_arr = (seg_arr == 1).astype(int)\n",
    "\n",
    "#Show the result on the MR slice\n",
    "plt.imshow(im_arr[:, :, mr_slice].T, cmap=\"gray\")\n",
    "plt.contour(markers_arr.T, colors=\"b\", linewidths=1, levels=[1.5, 2])\n",
    "plt.contour(seg_arr.T, colors=\"r\", linewidths=1, levels=[0.5, 1])\n",
    "plt.axis('off')"
   ]
  },
  {
   "cell_type": "code",
   "execution_count": null,
   "metadata": {},
   "outputs": [],
   "source": [
    "<font color='red'>Try the homemade watershed algorith on all the MR slices (2D version)\n",
    "</font> "
   ]
  },
  {
   "cell_type": "code",
   "execution_count": 75,
   "metadata": {},
   "outputs": [
    {
     "name": "stderr",
     "output_type": "stream",
     "text": [
      "100% (87 of 87) |########################| Elapsed Time: 0:00:00 Time:  0:00:00\n"
     ]
    },
    {
     "name": "stdout",
     "output_type": "stream",
     "text": [
      "87 grey levels to process\n",
      "103 grey levels to process\n"
     ]
    },
    {
     "name": "stderr",
     "output_type": "stream",
     "text": [
      "100% (103 of 103) |######################| Elapsed Time: 0:00:00 Time:  0:00:00\n",
      " 67% (74 of 109) |###############        | Elapsed Time: 0:00:00 ETA:   0:00:00"
     ]
    },
    {
     "name": "stdout",
     "output_type": "stream",
     "text": [
      "109 grey levels to process\n"
     ]
    },
    {
     "name": "stderr",
     "output_type": "stream",
     "text": [
      "100% (109 of 109) |######################| Elapsed Time: 0:00:00 Time:  0:00:00\n",
      " 81% (81 of 99) |###################     | Elapsed Time: 0:00:00 ETA:   0:00:00"
     ]
    },
    {
     "name": "stdout",
     "output_type": "stream",
     "text": [
      "99 grey levels to process\n"
     ]
    },
    {
     "name": "stderr",
     "output_type": "stream",
     "text": [
      "100% (99 of 99) |########################| Elapsed Time: 0:00:00 Time:  0:00:00\n",
      " 62% (67 of 107) |##############         | Elapsed Time: 0:00:00 ETA:   0:00:00"
     ]
    },
    {
     "name": "stdout",
     "output_type": "stream",
     "text": [
      "107 grey levels to process\n"
     ]
    },
    {
     "name": "stderr",
     "output_type": "stream",
     "text": [
      "100% (107 of 107) |######################| Elapsed Time: 0:00:00 Time:  0:00:00\n",
      " 58% (60 of 103) |#############          | Elapsed Time: 0:00:00 ETA:   0:00:00"
     ]
    },
    {
     "name": "stdout",
     "output_type": "stream",
     "text": [
      "103 grey levels to process\n"
     ]
    },
    {
     "name": "stderr",
     "output_type": "stream",
     "text": [
      "100% (103 of 103) |######################| Elapsed Time: 0:00:00 Time:  0:00:00\n",
      "100% (93 of 93) |########################| Elapsed Time: 0:00:00 Time:  0:00:00\n"
     ]
    },
    {
     "name": "stdout",
     "output_type": "stream",
     "text": [
      "93 grey levels to process\n",
      "113 grey levels to process\n"
     ]
    },
    {
     "name": "stderr",
     "output_type": "stream",
     "text": [
      "100% (113 of 113) |######################| Elapsed Time: 0:00:00 Time:  0:00:00\n",
      " 34% (36 of 103) |########               | Elapsed Time: 0:00:00 ETA:   0:00:00"
     ]
    },
    {
     "name": "stdout",
     "output_type": "stream",
     "text": [
      "103 grey levels to process\n"
     ]
    },
    {
     "name": "stderr",
     "output_type": "stream",
     "text": [
      "100% (103 of 103) |######################| Elapsed Time: 0:00:00 Time:  0:00:00\n",
      "100% (91 of 91) |########################| Elapsed Time: 0:00:00 Time:  0:00:00\n",
      "N/A% (0 of 101) |                        | Elapsed Time: 0:00:00 ETA:  --:--:--"
     ]
    },
    {
     "name": "stdout",
     "output_type": "stream",
     "text": [
      "91 grey levels to process\n",
      "101 grey levels to process\n"
     ]
    },
    {
     "name": "stderr",
     "output_type": "stream",
     "text": [
      "100% (101 of 101) |######################| Elapsed Time: 0:00:00 Time:  0:00:00\n",
      " 56% (55 of 97) |#############           | Elapsed Time: 0:00:00 ETA:   0:00:00"
     ]
    },
    {
     "name": "stdout",
     "output_type": "stream",
     "text": [
      "97 grey levels to process\n"
     ]
    },
    {
     "name": "stderr",
     "output_type": "stream",
     "text": [
      "100% (97 of 97) |########################| Elapsed Time: 0:00:00 Time:  0:00:00\n",
      " 59% (55 of 93) |##############          | Elapsed Time: 0:00:00 ETA:   0:00:00"
     ]
    },
    {
     "name": "stdout",
     "output_type": "stream",
     "text": [
      "93 grey levels to process\n"
     ]
    },
    {
     "name": "stderr",
     "output_type": "stream",
     "text": [
      "100% (93 of 93) |########################| Elapsed Time: 0:00:00 Time:  0:00:00\n",
      " 51% (49 of 95) |############            | Elapsed Time: 0:00:00 ETA:   0:00:00"
     ]
    },
    {
     "name": "stdout",
     "output_type": "stream",
     "text": [
      "95 grey levels to process\n"
     ]
    },
    {
     "name": "stderr",
     "output_type": "stream",
     "text": [
      "100% (95 of 95) |########################| Elapsed Time: 0:00:00 Time:  0:00:00\n",
      " 47% (43 of 91) |###########             | Elapsed Time: 0:00:00 ETA:   0:00:00"
     ]
    },
    {
     "name": "stdout",
     "output_type": "stream",
     "text": [
      "91 grey levels to process\n"
     ]
    },
    {
     "name": "stderr",
     "output_type": "stream",
     "text": [
      "100% (91 of 91) |########################| Elapsed Time: 0:00:00 Time:  0:00:00\n",
      " 51% (43 of 83) |############            | Elapsed Time: 0:00:00 ETA:   0:00:00"
     ]
    },
    {
     "name": "stdout",
     "output_type": "stream",
     "text": [
      "83 grey levels to process\n"
     ]
    },
    {
     "name": "stderr",
     "output_type": "stream",
     "text": [
      "100% (83 of 83) |########################| Elapsed Time: 0:00:00 Time:  0:00:00\n",
      " 44% (43 of 97) |##########              | Elapsed Time: 0:00:00 ETA:   0:00:00"
     ]
    },
    {
     "name": "stdout",
     "output_type": "stream",
     "text": [
      "97 grey levels to process\n"
     ]
    },
    {
     "name": "stderr",
     "output_type": "stream",
     "text": [
      "100% (97 of 97) |########################| Elapsed Time: 0:00:00 Time:  0:00:00\n",
      " 43% (43 of 99) |##########              | Elapsed Time: 0:00:00 ETA:   0:00:00"
     ]
    },
    {
     "name": "stdout",
     "output_type": "stream",
     "text": [
      "99 grey levels to process\n"
     ]
    },
    {
     "name": "stderr",
     "output_type": "stream",
     "text": [
      "100% (99 of 99) |########################| Elapsed Time: 0:00:00 Time:  0:00:00\n",
      " 39% (39 of 99) |#########               | Elapsed Time: 0:00:00 ETA:   0:00:00"
     ]
    },
    {
     "name": "stdout",
     "output_type": "stream",
     "text": [
      "99 grey levels to process\n"
     ]
    },
    {
     "name": "stderr",
     "output_type": "stream",
     "text": [
      "100% (99 of 99) |########################| Elapsed Time: 0:00:00 Time:  0:00:00\n",
      " 47% (47 of 99) |###########             | Elapsed Time: 0:00:00 ETA:   0:00:00"
     ]
    },
    {
     "name": "stdout",
     "output_type": "stream",
     "text": [
      "99 grey levels to process\n"
     ]
    },
    {
     "name": "stderr",
     "output_type": "stream",
     "text": [
      "100% (99 of 99) |########################| Elapsed Time: 0:00:00 Time:  0:00:00\n",
      " 64% (52 of 81) |###############         | Elapsed Time: 0:00:00 ETA:   0:00:00"
     ]
    },
    {
     "name": "stdout",
     "output_type": "stream",
     "text": [
      "81 grey levels to process\n"
     ]
    },
    {
     "name": "stderr",
     "output_type": "stream",
     "text": [
      "100% (81 of 81) |########################| Elapsed Time: 0:00:00 Time:  0:00:00\n",
      " 69% (63 of 91) |################        | Elapsed Time: 0:00:00 ETA:   0:00:00"
     ]
    },
    {
     "name": "stdout",
     "output_type": "stream",
     "text": [
      "91 grey levels to process\n"
     ]
    },
    {
     "name": "stderr",
     "output_type": "stream",
     "text": [
      "100% (91 of 91) |########################| Elapsed Time: 0:00:00 Time:  0:00:00\n",
      " 98% (96 of 97) |####################### | Elapsed Time: 0:00:00 ETA:   0:00:00"
     ]
    },
    {
     "name": "stdout",
     "output_type": "stream",
     "text": [
      "97 grey levels to process\n"
     ]
    },
    {
     "name": "stderr",
     "output_type": "stream",
     "text": [
      "100% (97 of 97) |########################| Elapsed Time: 0:00:00 Time:  0:00:00\n",
      " 58% (57 of 97) |##############          | Elapsed Time: 0:00:00 ETA:   0:00:00"
     ]
    },
    {
     "name": "stdout",
     "output_type": "stream",
     "text": [
      "97 grey levels to process\n"
     ]
    },
    {
     "name": "stderr",
     "output_type": "stream",
     "text": [
      "100% (97 of 97) |########################| Elapsed Time: 0:00:00 Time:  0:00:00\n",
      " 98% (96 of 97) |####################### | Elapsed Time: 0:00:00 ETA:   0:00:00"
     ]
    },
    {
     "name": "stdout",
     "output_type": "stream",
     "text": [
      "97 grey levels to process\n"
     ]
    },
    {
     "name": "stderr",
     "output_type": "stream",
     "text": [
      "100% (97 of 97) |########################| Elapsed Time: 0:00:00 Time:  0:00:00\n",
      " 62% (62 of 99) |###############         | Elapsed Time: 0:00:00 ETA:   0:00:00"
     ]
    },
    {
     "name": "stdout",
     "output_type": "stream",
     "text": [
      "99 grey levels to process\n"
     ]
    },
    {
     "name": "stderr",
     "output_type": "stream",
     "text": [
      "100% (99 of 99) |########################| Elapsed Time: 0:00:00 Time:  0:00:00\n",
      " 54% (55 of 101) |############           | Elapsed Time: 0:00:00 ETA:   0:00:00"
     ]
    },
    {
     "name": "stdout",
     "output_type": "stream",
     "text": [
      "101 grey levels to process\n"
     ]
    },
    {
     "name": "stderr",
     "output_type": "stream",
     "text": [
      "100% (101 of 101) |######################| Elapsed Time: 0:00:00 Time:  0:00:00\n",
      " 67% (67 of 99) |################        | Elapsed Time: 0:00:00 ETA:   0:00:00"
     ]
    },
    {
     "name": "stdout",
     "output_type": "stream",
     "text": [
      "99 grey levels to process\n"
     ]
    },
    {
     "name": "stderr",
     "output_type": "stream",
     "text": [
      "100% (99 of 99) |########################| Elapsed Time: 0:00:00 Time:  0:00:00\n",
      " 52% (53 of 101) |############           | Elapsed Time: 0:00:00 ETA:   0:00:00"
     ]
    },
    {
     "name": "stdout",
     "output_type": "stream",
     "text": [
      "101 grey levels to process\n"
     ]
    },
    {
     "name": "stderr",
     "output_type": "stream",
     "text": [
      "100% (101 of 101) |######################| Elapsed Time: 0:00:00 Time:  0:00:00\n",
      " 51% (54 of 105) |###########            | Elapsed Time: 0:00:00 ETA:   0:00:00"
     ]
    },
    {
     "name": "stdout",
     "output_type": "stream",
     "text": [
      "105 grey levels to process\n"
     ]
    },
    {
     "name": "stderr",
     "output_type": "stream",
     "text": [
      "100% (105 of 105) |######################| Elapsed Time: 0:00:00 Time:  0:00:00\n",
      " 75% (76 of 101) |#################      | Elapsed Time: 0:00:00 ETA:   0:00:00"
     ]
    },
    {
     "name": "stdout",
     "output_type": "stream",
     "text": [
      "101 grey levels to process\n"
     ]
    },
    {
     "name": "stderr",
     "output_type": "stream",
     "text": [
      "100% (101 of 101) |######################| Elapsed Time: 0:00:00 Time:  0:00:00\n",
      " 42% (49 of 115) |#########              | Elapsed Time: 0:00:00 ETA:   0:00:00"
     ]
    },
    {
     "name": "stdout",
     "output_type": "stream",
     "text": [
      "115 grey levels to process\n"
     ]
    },
    {
     "name": "stderr",
     "output_type": "stream",
     "text": [
      "100% (115 of 115) |######################| Elapsed Time: 0:00:00 Time:  0:00:00\n",
      " 59% (62 of 105) |#############          | Elapsed Time: 0:00:00 ETA:   0:00:00"
     ]
    },
    {
     "name": "stdout",
     "output_type": "stream",
     "text": [
      "105 grey levels to process\n"
     ]
    },
    {
     "name": "stderr",
     "output_type": "stream",
     "text": [
      "100% (105 of 105) |######################| Elapsed Time: 0:00:00 Time:  0:00:00\n",
      " 51% (55 of 107) |###########            | Elapsed Time: 0:00:00 ETA:   0:00:00"
     ]
    },
    {
     "name": "stdout",
     "output_type": "stream",
     "text": [
      "107 grey levels to process\n"
     ]
    },
    {
     "name": "stderr",
     "output_type": "stream",
     "text": [
      "100% (107 of 107) |######################| Elapsed Time: 0:00:00 Time:  0:00:00\n",
      " 44% (44 of 98) |##########              | Elapsed Time: 0:00:00 ETA:   0:00:00"
     ]
    },
    {
     "name": "stdout",
     "output_type": "stream",
     "text": [
      "98 grey levels to process\n"
     ]
    },
    {
     "name": "stderr",
     "output_type": "stream",
     "text": [
      "100% (98 of 98) |########################| Elapsed Time: 0:00:00 Time:  0:00:00\n",
      " 48% (56 of 115) |###########            | Elapsed Time: 0:00:00 ETA:   0:00:00"
     ]
    },
    {
     "name": "stdout",
     "output_type": "stream",
     "text": [
      "115 grey levels to process\n"
     ]
    },
    {
     "name": "stderr",
     "output_type": "stream",
     "text": [
      "100% (115 of 115) |######################| Elapsed Time: 0:00:00 Time:  0:00:00\n",
      " 39% (50 of 126) |#########              | Elapsed Time: 0:00:00 ETA:   0:00:00"
     ]
    },
    {
     "name": "stdout",
     "output_type": "stream",
     "text": [
      "126 grey levels to process\n"
     ]
    },
    {
     "name": "stderr",
     "output_type": "stream",
     "text": [
      "100% (126 of 126) |######################| Elapsed Time: 0:00:00 Time:  0:00:00\n",
      " 61% (82 of 134) |##############         | Elapsed Time: 0:00:00 ETA:   0:00:00"
     ]
    },
    {
     "name": "stdout",
     "output_type": "stream",
     "text": [
      "134 grey levels to process\n"
     ]
    },
    {
     "name": "stderr",
     "output_type": "stream",
     "text": [
      "100% (134 of 134) |######################| Elapsed Time: 0:00:00 Time:  0:00:00\n",
      " 56% (65 of 115) |############           | Elapsed Time: 0:00:00 ETA:   0:00:00"
     ]
    },
    {
     "name": "stdout",
     "output_type": "stream",
     "text": [
      "115 grey levels to process\n"
     ]
    },
    {
     "name": "stderr",
     "output_type": "stream",
     "text": [
      "100% (115 of 115) |######################| Elapsed Time: 0:00:00 Time:  0:00:00\n",
      " 63% (90 of 142) |##############         | Elapsed Time: 0:00:00 ETA:   0:00:00"
     ]
    },
    {
     "name": "stdout",
     "output_type": "stream",
     "text": [
      "142 grey levels to process\n"
     ]
    },
    {
     "name": "stderr",
     "output_type": "stream",
     "text": [
      "100% (142 of 142) |######################| Elapsed Time: 0:00:00 Time:  0:00:00\n",
      "100% (125 of 125) |######################| Elapsed Time: 0:00:00 Time:  0:00:00\n"
     ]
    },
    {
     "name": "stdout",
     "output_type": "stream",
     "text": [
      "125 grey levels to process\n",
      "133 grey levels to process\n"
     ]
    },
    {
     "name": "stderr",
     "output_type": "stream",
     "text": [
      "100% (133 of 133) |######################| Elapsed Time: 0:00:00 Time:  0:00:00\n",
      " 67% (98 of 146) |###############        | Elapsed Time: 0:00:00 ETA:   0:00:00"
     ]
    },
    {
     "name": "stdout",
     "output_type": "stream",
     "text": [
      "146 grey levels to process\n"
     ]
    },
    {
     "name": "stderr",
     "output_type": "stream",
     "text": [
      "100% (146 of 146) |######################| Elapsed Time: 0:00:00 Time:  0:00:00\n",
      " 48% (92 of 190) |###########            | Elapsed Time: 0:00:00 ETA:   0:00:00"
     ]
    },
    {
     "name": "stdout",
     "output_type": "stream",
     "text": [
      "190 grey levels to process\n"
     ]
    },
    {
     "name": "stderr",
     "output_type": "stream",
     "text": [
      "100% (190 of 190) |######################| Elapsed Time: 0:00:00 Time:  0:00:00\n"
     ]
    },
    {
     "data": {
      "application/vnd.jupyter.widget-view+json": {
       "model_id": "45cbd8df4b7d4c43bcb615491c616b01",
       "version_major": 2,
       "version_minor": 0
      },
      "text/plain": [
       "interactive(children=(IntSlider(value=77, description='mr_slice', max=155), Output()), _dom_classes=('widget-i…"
      ]
     },
     "metadata": {},
     "output_type": "display_data"
    }
   ],
   "source": [
    "#2D watershed slice by slice\n",
    "\n",
    "se = # ... To complete ...\n",
    "seg2d_arr = np.ones((sx, sy, sz))\n",
    "\n",
    "#Initialization\n",
    "p = 10\n",
    "markers_arr = np.zeros((sx, sy, sz))\n",
    "[x, y, z] = np.where(init_seg_arr != 0)\n",
    "bb_arr = np.zeros((sx, sy, sz))\n",
    "bb_arr[np.min(x) - p:np.max(x) + p, np.min(y) - p:np.max(y) + p, np.min(z) - p:np.max(z) + p] = 1\n",
    "dist_arr = ndimage.distance_transform_edt(bb_arr).astype(int)\n",
    "markers_arr[np.logical_and(dist_arr > 0, dist_arr < 1.5)] = 2\n",
    "markers_arr[init_seg_arr == 1] = 1\n",
    "\n",
    "for mr_slice in range(0, sz):        \n",
    "        seg2d_arr[:, :, mr_slice] = homemade_watershed #... To complete ...\n",
    "        \n",
    "#Restrict the segmentation to the tumor class        \n",
    "seg2d_arr = (seg2d_arr == 1).astype(int)\n",
    "\n",
    "#Fill holes\n",
    "# ... To complete ...\n",
    "\n",
    "#Show the result        \n",
    "interactive_plot = interactive(show_result, im_arr=fixed(im_arr), seg_arr=fixed(seg2d_arr), mr_slice=(0, sz, 1))\n",
    "interactive_plot"
   ]
  },
  {
   "cell_type": "markdown",
   "metadata": {},
   "source": [
    "<font color='red'>Try the homemade watershed algorith on the whole volume (3D version, 26-connectivity)\n",
    "</font> "
   ]
  },
  {
   "cell_type": "code",
   "execution_count": 76,
   "metadata": {
    "scrolled": true
   },
   "outputs": [
    {
     "name": "stdout",
     "output_type": "stream",
     "text": [
      "59 grey levels to process\n"
     ]
    },
    {
     "name": "stderr",
     "output_type": "stream",
     "text": [
      "100% (59 of 59) |########################| Elapsed Time: 0:02:22 Time:  0:02:22\n"
     ]
    },
    {
     "data": {
      "application/vnd.jupyter.widget-view+json": {
       "model_id": "33f62409b039417a8b8c45624a953e5c",
       "version_major": 2,
       "version_minor": 0
      },
      "text/plain": [
       "interactive(children=(IntSlider(value=77, description='mr_slice', max=155), Output()), _dom_classes=('widget-i…"
      ]
     },
     "metadata": {},
     "output_type": "display_data"
    }
   ],
   "source": [
    "#Initialization\n",
    "p = 5\n",
    "markers_arr = np.zeros((sx, sy, sz))\n",
    "[x, y, z] = np.where(init_seg_arr != 0)\n",
    "bb_arr = np.zeros((sx, sy, sz))\n",
    "bb_arr[np.min(x) - p:np.max(x) + p, np.min(y) - p:np.max(y) + p, np.min(z) - p:np.max(z) + p] = 1\n",
    "dist_arr = ndimage.distance_transform_edt(bb_arr).astype(int)\n",
    "markers_arr[np.logical_and(dist_arr > 0, dist_arr < 1.5)] = 2\n",
    "markers_arr[init_seg_arr == 1] = 1\n",
    "\n",
    "se = #...To complete ...\n",
    "seg3d_arr = #...To complete ...\n",
    "\n",
    "#Restrict the segmentation to the tumor class\n",
    "seg3d_arr = (seg3d_arr == 1).astype(int)\n",
    "\n",
    "#Fill holes\n",
    "#...To complete ...\n",
    "\n",
    "#Show the result        \n",
    "interactive_plot = interactive(show_result, im_arr=fixed(im_arr), seg_arr=fixed(seg3d_arr), mr_slice=(0, sz, 1))\n",
    "interactive_plot"
   ]
  },
  {
   "cell_type": "markdown",
   "metadata": {},
   "source": [
    "### Quantitative evaluation\n",
    "\n",
    "Given AS and MS binary images of the automatic and manual segmentation, the Dice between them is computed as follows:\n",
    "\n",
    "\\begin{equation*}\n",
    "Dice(AS, MS) = \\frac{\\left| AS \\cap MS \\right|}{\\left| AS \\right| + \\left| MS \\right|}\n",
    "\\end{equation*}\n",
    "\n",
    "Dice(AS, MS) = 1 means that there is a full overlap between AS and MS, Dice(AS, MS) = 0 means that there is no overlap betwen these two volumes.\n",
    "\n",
    "<font color='red'>Compare the Dice between the automatically and manually segmented volume, using a 2D or 3D watershed algorithm. Comment. </font> "
   ]
  },
  {
   "cell_type": "code",
   "execution_count": null,
   "metadata": {},
   "outputs": [],
   "source": [
    "#...To complete ..."
   ]
  },
  {
   "cell_type": "markdown",
   "metadata": {},
   "source": [
    "Given $AS_s$ and $MS_s$ the binary images of the surfaces of the automatic and manual segmentation, the Hausdorff distance between them is computed as follows:\n",
    "\n",
    "\\begin{equation*}\n",
    "\\mathrm{HD}(AS_s, MS_s) = \\max \\left\\{ \\max d(AS_s, MS_s), \\max d(MS_s, AS_s) \\right\\}\n",
    "\\end{equation*}\n",
    "\n",
    "<font color='red'>Compare the Hausdorff distances between the automatically and manually segmented volume, using a 2D or 3D watershed algorithm. Comment. </font> "
   ]
  },
  {
   "cell_type": "code",
   "execution_count": null,
   "metadata": {},
   "outputs": [],
   "source": [
    "#...To complete ..."
   ]
  },
  {
   "cell_type": "markdown",
   "metadata": {},
   "source": [
    "# Analysis\n",
    "\n",
    "<font color='red'>Try to predict the grade ! Good luck ! </font> "
   ]
  },
  {
   "cell_type": "code",
   "execution_count": null,
   "metadata": {},
   "outputs": [],
   "source": [
    "#...To complete ..."
   ]
  }
 ],
 "metadata": {
  "kernelspec": {
   "display_name": "Python 3",
   "language": "python",
   "name": "python3"
  },
  "language_info": {
   "codemirror_mode": {
    "name": "ipython",
    "version": 3
   },
   "file_extension": ".py",
   "mimetype": "text/x-python",
   "name": "python",
   "nbconvert_exporter": "python",
   "pygments_lexer": "ipython3",
   "version": "3.7.3"
  }
 },
 "nbformat": 4,
 "nbformat_minor": 2
}
