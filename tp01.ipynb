{
 "cells": [
  {
   "cell_type": "code",
   "execution_count": 64,
   "metadata": {},
   "outputs": [],
   "source": [
    "#System imports\n",
    "from __future__ import print_function\n",
    "from __future__ import division\n",
    "import os\n",
    "import glob\n",
    "import json\n",
    "import collections\n",
    "from ipywidgets import interact, interactive, fixed, interact_manual\n",
    "import ipywidgets as widgets"
   ]
  },
  {
   "cell_type": "code",
   "execution_count": 94,
   "metadata": {},
   "outputs": [],
   "source": [
    "#Extra import\n",
    "%matplotlib inline\n",
    "import numpy as np\n",
    "import SimpleITK as sitk\n",
    "from joblib import Parallel, delayed\n",
    "import nibabel as nib\n",
    "from matplotlib import pyplot as plt"
   ]
  },
  {
   "cell_type": "code",
   "execution_count": 10,
   "metadata": {},
   "outputs": [],
   "source": [
    "datapath = os.path.join(os.path.dirname(os.getcwd()), \"BRATS_2016\")"
   ]
  },
  {
   "cell_type": "code",
   "execution_count": 145,
   "metadata": {},
   "outputs": [],
   "source": [
    "impaths = [path for path in glob.glob(os.path.join(datapath, \"sourcedata\", \"*\", \"*\", \"*\", \"*\")) if \"ce-GADOLINIUM_T1w.nii\" in path]\n",
    "impath = impaths[40]"
   ]
  },
  {
   "cell_type": "code",
   "execution_count": 113,
   "metadata": {},
   "outputs": [],
   "source": [
    "def show_im2(x, y):\n",
    "    plt.imshow(x[:,:,y].T, cmap=\"gray\")\n",
    "    plt.axis('off')\n",
    "    "
   ]
  },
  {
   "cell_type": "code",
   "execution_count": 146,
   "metadata": {},
   "outputs": [
    {
     "name": "stdout",
     "output_type": "stream",
     "text": [
      "Image dimension: (240, 240, 155)\n",
      "Voxel size (mm): (1.0, 1.0, 1.0)\n"
     ]
    },
    {
     "data": {
      "application/vnd.jupyter.widget-view+json": {
       "model_id": "6ddbf1461c4b4686bcc3e7576551ed49",
       "version_major": 2,
       "version_minor": 0
      },
      "text/plain": [
       "interactive(children=(IntSlider(value=77, description='mr_slice', max=155), Output()), _dom_classes=('widget-i…"
      ]
     },
     "metadata": {},
     "output_type": "display_data"
    }
   ],
   "source": [
    "im = nib.load(impath)\n",
    "im_arr = im.get_data()\n",
    "print(\"Image dimension:\", im.shape)\n",
    "print(\"Voxel size (mm):\", im.header.get_zooms())\n",
    "sx, sy, sz = im.shape\n",
    "\n",
    "def show_axial(im_arr, mr_slice):\n",
    "    plt.imshow(im_arr[:,:,mr_slice].T, cmap=\"gray\")\n",
    "    plt.axis('off')\n",
    "    plt.pause(0.1)\n",
    "\n",
    "interactive_plot = interactive(show_axial, im_arr=fixed(im_arr), mr_slice=(0, sz, 1))\n",
    "interactive_plot    \n"
   ]
  },
  {
   "cell_type": "code",
   "execution_count": 133,
   "metadata": {},
   "outputs": [
    {
     "data": {
      "application/vnd.jupyter.widget-view+json": {
       "model_id": "cf8ebf7189ac4c05b16a9019b31edc41",
       "version_major": 2,
       "version_minor": 0
      },
      "text/plain": [
       "interactive(children=(IntSlider(value=120, description='mr_slice', max=240), Output()), _dom_classes=('widget-…"
      ]
     },
     "metadata": {},
     "output_type": "display_data"
    }
   ],
   "source": [
    "def show_sagittal(im_arr, mr_slice):\n",
    "    plt.imshow(np.flipud(im_arr[mr_slice, :, :].T), cmap=\"gray\")\n",
    "    plt.axis('off')\n",
    "    plt.pause(0.1)\n",
    "\n",
    "interactive_plot = interactive(show_sagittal, im_arr=fixed(im_arr), mr_slice=(0, sx, 1))\n",
    "interactive_plot   "
   ]
  },
  {
   "cell_type": "code",
   "execution_count": 135,
   "metadata": {},
   "outputs": [
    {
     "data": {
      "application/vnd.jupyter.widget-view+json": {
       "model_id": "70b06efb86484f40b8b521e561b1038d",
       "version_major": 2,
       "version_minor": 0
      },
      "text/plain": [
       "interactive(children=(IntSlider(value=120, description='mr_slice', max=240), Output()), _dom_classes=('widget-…"
      ]
     },
     "metadata": {},
     "output_type": "display_data"
    }
   ],
   "source": [
    "def show_coronal(im_arr, mr_slice):\n",
    "    plt.imshow(np.flipud(im_arr[:, mr_slice, :].T), cmap=\"gray\")\n",
    "    plt.axis('off')\n",
    "    plt.pause(0.1)\n",
    "\n",
    "interactive_plot = interactive(show_coronal, im_arr=fixed(im_arr), mr_slice=(0, sy, 1))\n",
    "interactive_plot   "
   ]
  },
  {
   "cell_type": "code",
   "execution_count": null,
   "metadata": {},
   "outputs": [],
   "source": []
  }
 ],
 "metadata": {
  "kernelspec": {
   "display_name": "Python 3",
   "language": "python",
   "name": "python3"
  },
  "language_info": {
   "codemirror_mode": {
    "name": "ipython",
    "version": 3
   },
   "file_extension": ".py",
   "mimetype": "text/x-python",
   "name": "python",
   "nbconvert_exporter": "python",
   "pygments_lexer": "ipython3",
   "version": "3.7.3"
  }
 },
 "nbformat": 4,
 "nbformat_minor": 2
}
